{
 "cells": [
  {
   "cell_type": "code",
   "execution_count": 1,
   "id": "a85ee422",
   "metadata": {
    "scrolled": true
   },
   "outputs": [],
   "source": [
    "import random\n",
    "from termcolor import colored"
   ]
  },
  {
   "cell_type": "code",
   "execution_count": 2,
   "id": "0464088f",
   "metadata": {},
   "outputs": [],
   "source": [
    "def wordle_words(file_path):\n",
    "    with open(file_path, 'r') as file:\n",
    "        wordle = [line.strip() for line in file.readlines()]\n",
    "    return wordle"
   ]
  },
  {
   "cell_type": "code",
   "execution_count": 3,
   "id": "8491c81b",
   "metadata": {},
   "outputs": [],
   "source": [
    "def word_of_the_day(wordle):\n",
    "    word = random.choice(wordle)\n",
    "    return word"
   ]
  },
  {
   "cell_type": "code",
   "execution_count": 4,
   "id": "31a11da3",
   "metadata": {},
   "outputs": [],
   "source": [
    "def bold(text):\n",
    "    return f'\\033[1m{text}\\033[0m'"
   ]
  },
  {
   "cell_type": "code",
   "execution_count": 7,
   "id": "0b7df3ed",
   "metadata": {},
   "outputs": [],
   "source": [
    "def user_input(word, alphabet):\n",
    "    h = 0\n",
    "    guess = ''\n",
    "    cguess = ''\n",
    "    \n",
    "    while h<=5:\n",
    "        \n",
    "        l = input()\n",
    "        \n",
    "        for i in range(5):\n",
    "            \n",
    "            if l[i]==word[i]:\n",
    "                guess += l[i]\n",
    "                cguess += bold(colored(l[i],'green')) + ' '\n",
    "                \n",
    "            elif l[i]!=word[i] and l[i] in word and (word.count(l[i])==l.count(l[i]) or l[i] not in guess):\n",
    "                guess += l[i]\n",
    "                cguess += bold(colored(l[i],'yellow')) + ' '\n",
    "                \n",
    "            else:\n",
    "                guess += l[i]\n",
    "                cguess += bold(l[i]) + ' '\n",
    "                if l[i] in alphabet:\n",
    "                    alphabet.remove(l[i])\n",
    "\n",
    "        print(cguess)\n",
    "        print()\n",
    "    \n",
    "        if guess.replace(' ','') == word:\n",
    "            print(bold(praise[h]))\n",
    "            print('The word is :',bold(colored(word,'green')))\n",
    "            break\n",
    "            \n",
    "        else:\n",
    "            print(alphabet)\n",
    "            print()\n",
    "            guess = ''\n",
    "            cguess = ''\n",
    "            h += 1\n",
    "            \n",
    "    else:\n",
    "        print('oops! better luck next time..')\n",
    "        print('The word is :',bold(colored(word,'green')))"
   ]
  },
  {
   "cell_type": "code",
   "execution_count": null,
   "id": "06ee0b7e",
   "metadata": {
    "scrolled": false
   },
   "outputs": [
    {
     "name": "stdout",
     "output_type": "stream",
     "text": [
      "MAGIC\n",
      "\u001b[1mM\u001b[0m \u001b[1m\u001b[32mA\u001b[0m\u001b[0m \u001b[1mG\u001b[0m \u001b[1m\u001b[32mI\u001b[0m\u001b[0m \u001b[1mC\u001b[0m \n",
      "\n",
      "['A', 'B', 'D', 'E', 'F', 'H', 'I', 'J', 'K', 'L', 'N', 'O', 'P', 'Q', 'R', 'S', 'T', 'U', 'V', 'W', 'X', 'Y']\n",
      "\n",
      "CARIN\n",
      "\u001b[1mC\u001b[0m \u001b[1m\u001b[32mA\u001b[0m\u001b[0m \u001b[1mR\u001b[0m \u001b[1m\u001b[32mI\u001b[0m\u001b[0m \u001b[1mN\u001b[0m \n",
      "\n",
      "['A', 'B', 'D', 'E', 'F', 'H', 'I', 'J', 'K', 'L', 'O', 'P', 'Q', 'S', 'T', 'U', 'V', 'W', 'X', 'Y']\n",
      "\n",
      "BARIM\n",
      "\u001b[1mB\u001b[0m \u001b[1m\u001b[32mA\u001b[0m\u001b[0m \u001b[1mR\u001b[0m \u001b[1m\u001b[32mI\u001b[0m\u001b[0m \u001b[1mM\u001b[0m \n",
      "\n",
      "['A', 'D', 'E', 'F', 'H', 'I', 'J', 'K', 'L', 'O', 'P', 'Q', 'S', 'T', 'U', 'V', 'W', 'X', 'Y']\n",
      "\n",
      "TARIF\n",
      "\u001b[1mT\u001b[0m \u001b[1m\u001b[32mA\u001b[0m\u001b[0m \u001b[1mR\u001b[0m \u001b[1m\u001b[32mI\u001b[0m\u001b[0m \u001b[1mF\u001b[0m \n",
      "\n",
      "['A', 'D', 'E', 'H', 'I', 'J', 'K', 'L', 'O', 'P', 'Q', 'S', 'U', 'V', 'W', 'X', 'Y']\n",
      "\n"
     ]
    }
   ],
   "source": [
    "praise = ['Genius!', 'Magnificent!', 'Impressive!', 'Splendid!', 'Great!', 'Phew!']\n",
    "\n",
    "alphabet = [chr(i) for i in range(65,90)]\n",
    "\n",
    "file_path = 'wordle.txt'\n",
    "wordle = wordle_words(file_path)\n",
    "word = word_of_the_day(wordle)\n",
    "user_input(word, alphabet)"
   ]
  },
  {
   "cell_type": "code",
   "execution_count": null,
   "id": "ae6b619d",
   "metadata": {},
   "outputs": [],
   "source": []
  }
 ],
 "metadata": {
  "kernelspec": {
   "display_name": "Python 3 (ipykernel)",
   "language": "python",
   "name": "python3"
  },
  "language_info": {
   "codemirror_mode": {
    "name": "ipython",
    "version": 3
   },
   "file_extension": ".py",
   "mimetype": "text/x-python",
   "name": "python",
   "nbconvert_exporter": "python",
   "pygments_lexer": "ipython3",
   "version": "3.11.4"
  }
 },
 "nbformat": 4,
 "nbformat_minor": 5
}
